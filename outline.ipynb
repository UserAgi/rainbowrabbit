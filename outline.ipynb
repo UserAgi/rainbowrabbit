{
 "cells": [
  {
   "cell_type": "markdown",
   "source": [
    "# WTT Workshop Plan"
   ],
   "metadata": {}
  },
  {
   "cell_type": "markdown",
   "source": [
    "The tutors: \n",
    "- Morning: \n",
    "- Afternoon: \n",
    "\n",
    "Contact us after the workshop: contact-us@whatever.com"
   ],
   "metadata": {}
  },
  {
   "cell_type": "markdown",
   "source": [
    "This workshop notebook is released as CC0, feel free to reuse! \n",
    "We'll be happy if you let us know if you reused it"
   ],
   "metadata": {}
  },
  {
   "cell_type": "markdown",
   "source": [
    "___\n",
    "##  Intro (very short) "
   ],
   "metadata": {}
  },
  {
   "cell_type": "markdown",
   "source": [
    "### who we are \n",
    "\n",
    "intro WiMLDS \n",
    "\n",
    "intro Litix \n",
    "\n",
    "intro Databooster / DIA "
   ],
   "metadata": {}
  },
  {
   "cell_type": "markdown",
   "source": [
    "### tools"
   ],
   "metadata": {}
  },
  {
   "cell_type": "markdown",
   "source": [
    "Why Python, why Leaflet"
   ],
   "metadata": {}
  },
  {
   "cell_type": "markdown",
   "source": [
    "Alternatives listed at the bottom"
   ],
   "metadata": {}
  },
  {
   "cell_type": "markdown",
   "source": [
    "___\n",
    "## Theory: intro to geodata "
   ],
   "metadata": {}
  },
  {
   "cell_type": "markdown",
   "source": [
    "### What is geodata: \n",
    "- data with a geographical reference. Any information refers to some location in the real world. \n",
    "- GIS (Geographical Information System) is used as a generic term for geodata related software.\n",
    "- geodata is stored in layers \n",
    "- map is a set of layers "
   ],
   "metadata": {}
  },
  {
   "cell_type": "markdown",
   "source": [
    "### Important GIS Objects"
   ],
   "metadata": {}
  },
  {
   "cell_type": "markdown",
   "source": [
    "```diff\n",
    "@@demo visualization here without explaining the dataformats and libraries? -> Leaflet Snippets  @@\n",
    "```"
   ],
   "metadata": {}
  },
  {
   "cell_type": "markdown",
   "source": [
    "#### vector data \n",
    "- Point data -> bus stop layer with annotations [data](https://geolion.zh.ch/geodatensatz/883) [WFS](https://geolion.zh.ch/geodatenservice/1055)\n",
    "- Line data -> road network layer [data](https://geolion.zh.ch/geodatensatz/3177) [WFS](https://geolion.zh.ch/geodatenservice/1120)\n",
    "- Polygon data -> lake layer with annotated lake names **<ins>???</ins>**\n",
    "\n",
    "Vector data contains additional information in an attribute table (e.g. a lake polygon layer contains a name, an area and more information about every lake --> **<ins>attribute table to the lake layer<ins>**"
   ],
   "metadata": {}
  },
  {
   "cell_type": "markdown",
   "source": [
    "#### raster data \n",
    "- Raster data -> height model **<ins>???</ins>**"
   ],
   "metadata": {}
  },
  {
   "cell_type": "markdown",
   "source": [
    "In order to display a layer, a symbology / style (e.g. color code) is used → **height model with color ramp** → **road network layer with and without symbology**\n",
    "```diff \n",
    "! what is a symbology? \n",
    "```"
   ],
   "metadata": {}
  },
  {
   "cell_type": "markdown",
   "source": [
    "### Data formats, services and classes\n"
   ],
   "metadata": {}
  },
  {
   "cell_type": "markdown",
   "source": [
    "Geodata can be stored locally or is provided through webservices (geoservices). "
   ],
   "metadata": {}
  },
  {
   "cell_type": "markdown",
   "source": [
    "#### Static data"
   ],
   "metadata": {}
  },
  {
   "cell_type": "markdown",
   "source": [
    "##### GeoJSON \n",
    "\n",
    "different string representations of vector data (human readable) --> string with bus stop data\n",
    "\n",
    "```diff\n",
    "! Is it different from TopoJSON? \n",
    "```"
   ],
   "metadata": {}
  },
  {
   "cell_type": "markdown",
   "source": [
    "``` \n",
    "example \n",
    "{key: value}\n",
    "```"
   ],
   "metadata": {}
  },
  {
   "cell_type": "markdown",
   "source": [
    "##### ESRI / Shapefile\r\n",
    "-> maybe mention it, but not explain it -> introduce only what we use in the workshop"
   ],
   "metadata": {}
  },
  {
   "cell_type": "markdown",
   "source": [
    "```diff \n",
    "! ??? \n",
    "```"
   ],
   "metadata": {}
  },
  {
   "cell_type": "markdown",
   "source": [
    "##### GeoDataFrame \n",
    "class in the geogandas package to deal with vector geodata\n",
    "\n",
    "Based on a DataFrame"
   ],
   "metadata": {}
  },
  {
   "cell_type": "markdown",
   "source": [
    "##### Tabular data\n",
    "\n",
    "CSV, PostGIS"
   ],
   "metadata": {}
  },
  {
   "cell_type": "markdown",
   "source": [
    "#### GeoServices"
   ],
   "metadata": {}
  },
  {
   "cell_type": "markdown",
   "source": [
    "WMS: web map service, geoservice providing raster data or maps --> ???\n",
    "\n",
    "WFS: web feature service, geoservice providing vector data --> ???\n"
   ],
   "metadata": {}
  },
  {
   "cell_type": "markdown",
   "source": [
    "### List of popular geodata sources "
   ],
   "metadata": {}
  },
  {
   "cell_type": "markdown",
   "source": [
    "Demo GeoLion"
   ],
   "metadata": {}
  },
  {
   "cell_type": "markdown",
   "source": [
    "Other sources:\n",
    "- Geodienste.ch\n",
    "- Swisstopo: https://www.geo.admin.ch/de/geo-dienstleistungen/geodienste/darstellungsdienste-webmapping-webgis-anwendungen/web-map-services-wms.html \n",
    "- SBB Transport-Data\n",
    "- https://www.geo.admin.ch/en/thematic-geoportals-federal-offices/public-available-gis-applications.html \n",
    "- ..."
   ],
   "metadata": {}
  },
  {
   "cell_type": "markdown",
   "source": [
    "___"
   ],
   "metadata": {}
  },
  {
   "cell_type": "markdown",
   "source": [
    "## Practice 1: load and transform"
   ],
   "metadata": {}
  },
  {
   "cell_type": "markdown",
   "source": [
    "Load background map (WMS)"
   ],
   "metadata": {}
  },
  {
   "cell_type": "code",
   "execution_count": 1,
   "source": [
    "### ..."
   ],
   "outputs": [],
   "metadata": {}
  },
  {
   "cell_type": "markdown",
   "source": [
    "Load bus stops, roads and lakes"
   ],
   "metadata": {}
  },
  {
   "cell_type": "code",
   "execution_count": 1,
   "source": [
    "### ..."
   ],
   "outputs": [],
   "metadata": {}
  },
  {
   "cell_type": "markdown",
   "source": [
    "Transform all into GeoDF"
   ],
   "metadata": {}
  },
  {
   "cell_type": "code",
   "execution_count": 1,
   "source": [
    "### ..."
   ],
   "outputs": [],
   "metadata": {}
  },
  {
   "cell_type": "markdown",
   "source": [
    "Visualize everything with Leaflet"
   ],
   "metadata": {}
  },
  {
   "cell_type": "code",
   "execution_count": 1,
   "source": [
    "### ..."
   ],
   "outputs": [],
   "metadata": {}
  },
  {
   "cell_type": "markdown",
   "source": [
    "Change the default styling of 1 layer"
   ],
   "metadata": {}
  },
  {
   "cell_type": "code",
   "execution_count": 1,
   "source": [
    "### ..."
   ],
   "outputs": [],
   "metadata": {}
  },
  {
   "cell_type": "markdown",
   "source": [
    "Save data into a numpy array"
   ],
   "metadata": {}
  },
  {
   "cell_type": "code",
   "execution_count": 1,
   "source": [
    "### ..."
   ],
   "outputs": [],
   "metadata": {}
  },
  {
   "cell_type": "markdown",
   "source": [
    "___"
   ],
   "metadata": {}
  },
  {
   "cell_type": "markdown",
   "source": [
    "## Practice 2: Spatial data analysis: Will the bus stop become flooded?"
   ],
   "metadata": {}
  },
  {
   "cell_type": "markdown",
   "source": [
    "Read in height model"
   ],
   "metadata": {}
  },
  {
   "cell_type": "code",
   "execution_count": 1,
   "source": [
    "### ..."
   ],
   "outputs": [],
   "metadata": {}
  },
  {
   "cell_type": "markdown",
   "source": [
    "Find out the water level of the lake"
   ],
   "metadata": {}
  },
  {
   "cell_type": "code",
   "execution_count": 1,
   "source": [
    "### ..."
   ],
   "outputs": [],
   "metadata": {}
  },
  {
   "cell_type": "markdown",
   "source": [
    "Transform the height model to find out where the height is `lake_level + 2`"
   ],
   "metadata": {}
  },
  {
   "cell_type": "code",
   "execution_count": 1,
   "source": [
    "### ..."
   ],
   "outputs": [],
   "metadata": {}
  },
  {
   "cell_type": "markdown",
   "source": [
    "Create a polygon of this "
   ],
   "metadata": {}
  },
  {
   "cell_type": "code",
   "execution_count": 1,
   "source": [
    "### ..."
   ],
   "outputs": [],
   "metadata": {}
  },
  {
   "cell_type": "markdown",
   "source": [
    "Intersect the polygon with location of bus stops"
   ],
   "metadata": {}
  },
  {
   "cell_type": "code",
   "execution_count": 1,
   "source": [
    "### ..."
   ],
   "outputs": [],
   "metadata": {}
  },
  {
   "cell_type": "markdown",
   "source": [
    "___"
   ],
   "metadata": {}
  },
  {
   "cell_type": "markdown",
   "source": [
    "## Practice 3: Spatial data analysis: point density in a polygon"
   ],
   "metadata": {}
  },
  {
   "cell_type": "markdown",
   "source": [
    "Calculate number of bus stops in a Gemeinde "
   ],
   "metadata": {}
  },
  {
   "cell_type": "code",
   "execution_count": 1,
   "source": [
    "### ..."
   ],
   "outputs": [],
   "metadata": {}
  },
  {
   "cell_type": "markdown",
   "source": [
    "Plot borders of Gemeinde with a point density (choropleth)"
   ],
   "metadata": {}
  },
  {
   "cell_type": "code",
   "execution_count": 1,
   "source": [
    "### ..."
   ],
   "outputs": [],
   "metadata": {}
  },
  {
   "cell_type": "markdown",
   "source": [
    "___"
   ],
   "metadata": {}
  },
  {
   "cell_type": "markdown",
   "source": [
    "## Extra: Demo QGIS"
   ],
   "metadata": {}
  },
  {
   "cell_type": "markdown",
   "source": [
    "Demo QGIS"
   ],
   "metadata": {}
  },
  {
   "cell_type": "markdown",
   "source": [
    "___"
   ],
   "metadata": {}
  },
  {
   "cell_type": "markdown",
   "source": [
    "## Outro: Discussion round"
   ],
   "metadata": {}
  },
  {
   "cell_type": "markdown",
   "source": [
    "Which dataset have you visualized? \n",
    "\n",
    "Collect feedbacks \n",
    "\n",
    "Collect output into a blog post, submit to Open Data Showcases"
   ],
   "metadata": {}
  },
  {
   "cell_type": "markdown",
   "source": [
    "___"
   ],
   "metadata": {}
  },
  {
   "cell_type": "markdown",
   "source": [
    "## Extra: ML and spatial data"
   ],
   "metadata": {}
  },
  {
   "cell_type": "markdown",
   "source": [
    "Some resources: \n",
    "- ..."
   ],
   "metadata": {}
  },
  {
   "cell_type": "markdown",
   "source": [
    "___"
   ],
   "metadata": {}
  },
  {
   "cell_type": "markdown",
   "source": [
    "## Extra: setting up a Python environment"
   ],
   "metadata": {}
  },
  {
   "cell_type": "code",
   "execution_count": 1,
   "source": [
    "### ..."
   ],
   "outputs": [],
   "metadata": {}
  },
  {
   "cell_type": "markdown",
   "source": [
    "Jupyter Tools: \n",
    "- https://jupyter-contrib-nbextensions.readthedocs.io/en/latest/ \n",
    "    - Collapsible Headings\n",
    "    - Table of Contents (2)\n",
    "    - Hide Input\n",
    "    - Collapsible Headings\n",
    "\n",
    "- GeoPandas: \n",
    "    - https://geopandas.org/getting_started/install.html\n",
    "    - install by conda to do automatic installation\n",
    "    - w/o conda, dependencies are: \n",
    "      \n",
    "```\n",
    "numpy\n",
    "pandas (version 0.24 or later)\n",
    "shapely (interface to GEOS)\n",
    "fiona (interface to GDAL)\n",
    "pyproj (interface to PROJ; version 2.2.0 or later)\n",
    "```\n",
    "\n",
    "```\n",
    "rtree (optional; spatial index to improve performance and required for overlay operations; interface to libspatialindex)\n",
    "psycopg2 (optional; for PostGIS connection)\n",
    "GeoAlchemy2 (optional; for writing to PostGIS)\n",
    "geopy (optional; for geocoding)\n",
    "```"
   ],
   "metadata": {}
  },
  {
   "cell_type": "markdown",
   "source": [
    "___"
   ],
   "metadata": {}
  },
  {
   "cell_type": "markdown",
   "source": [
    "## Extra: other tools"
   ],
   "metadata": {}
  },
  {
   "cell_type": "markdown",
   "source": [
    "Other tools available: \n",
    "\n",
    "- Mapbox\n",
    "- Flourish, Datawrapper \n",
    "\n",
    "- Cartopy \n",
    "- [Anaconda Holoviz](https://holoviz.org/index.html) with Holoviews, Geoview, Datashader \n",
    "\n",
    "- Leaflet.js \n",
    "- D3.js \n",
    "- Kepler.gl \n",
    "\n",
    "- R ? "
   ],
   "metadata": {}
  },
  {
   "cell_type": "markdown",
   "source": [
    "___"
   ],
   "metadata": {}
  },
  {
   "cell_type": "markdown",
   "source": [
    "# THE END"
   ],
   "metadata": {}
  },
  {
   "cell_type": "markdown",
   "source": [
    "___"
   ],
   "metadata": {}
  },
  {
   "cell_type": "markdown",
   "source": [
    "# Random Notes"
   ],
   "metadata": {}
  },
  {
   "cell_type": "markdown",
   "source": [
    "## Flooding in Kanton Bern - Data sources \n",
    "\n",
    "### Gefarenkarte \n",
    "Am Beispiel Kanton Bern Gefahrenkarte mit Ereigniskataster an ausgewählten Standorten vergleichen.\n",
    "\n",
    "Gefahrenkarte (Gefahren von Flüssen ausgehend) siehe \"Naturgefahrenkarten 1:5 000\" / \"Gefahrengebiete: Wassergefahren\" und Ereigniskataster siehe \"Naturgefahren Ereigniskataster\" / \"Ereigniskataster Wasser / Murgang\"\n",
    "\n",
    "Quellen (spezifische URL für jeden Layer muss noch recherchiert werden):\n",
    "\n",
    "- https://www.geoservice.apps.be.ch/geoservice2/services/a42geo/a42geo_geologiewms_d_fk/MapServer/WMSServer?\n",
    "\n",
    "- https://www.geo.apps.be.ch/de/geodienste/geodienstangebot/sheet/de-DE/7271c124-1f9a-a674-7515-b14e3864b1c8/geoservice/complete/search_list.html\n",
    "\n",
    " \n",
    "Nebenbei: Geo7 hat eine \"Gefährdungskarte Oberflächenabluss\" (Gefährdungskarte bei Starkregen) erstellt (verfügbar via map.geo.admin.ch) - es gibt jedoch kein Ereigniskataster dazu"
   ],
   "metadata": {}
  },
  {
   "cell_type": "markdown",
   "source": [
    "## Markdown: \n",
    "\n",
    "- [x] This is a complete item  \n",
    "- [ ] This is an incomplete item\n",
    "\n",
    "<ins>underline</ins>\n",
    "\n",
    ":boom:  \n",
    ":rainbow:  \n",
    ":trollface:  \n",
    ":red_circle:  \n",
    ":blue_square:\t\n",
    ":heavy_check_mark:\t\n",
    ":x:\t \n",
    ":bangbang:\t\n",
    ":question:\t\n",
    "https://github.com/ikatyang/emoji-cheat-sheet/blob/master/README.md  \n",
    "\n",
    "> Quote\n",
    "\n",
    "Diff: \n",
    "```diff\n",
    "- red\n",
    "+ green\n",
    "! orange\n",
    "# gray\n",
    "@@ purple @@\n",
    "-! Warning !-\n",
    "```"
   ],
   "metadata": {}
  }
 ],
 "metadata": {
  "kernelspec": {
   "display_name": "Python 3",
   "language": "python",
   "name": "python3"
  },
  "language_info": {
   "codemirror_mode": {
    "name": "ipython",
    "version": 3
   },
   "file_extension": ".py",
   "mimetype": "text/x-python",
   "name": "python",
   "nbconvert_exporter": "python",
   "pygments_lexer": "ipython3",
   "version": "3.6.8"
  }
 },
 "nbformat": 4,
 "nbformat_minor": 4
}