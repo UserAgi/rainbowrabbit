{
 "cells": [
  {
   "cell_type": "markdown",
   "metadata": {},
   "source": [
    "# WTT Workshop Plan"
   ]
  },
  {
   "cell_type": "markdown",
   "metadata": {},
   "source": [
    "___\n",
    "##  Intro (very short) - who we are \n",
    "\n",
    "intro WiMLDS \n",
    "\n",
    "intro Litix \n",
    "\n",
    "intro Databooster / DIA "
   ]
  },
  {
   "cell_type": "markdown",
   "metadata": {},
   "source": [
    "___\n",
    "## Theory: intro to geodata "
   ]
  },
  {
   "cell_type": "markdown",
   "metadata": {},
   "source": [
    "### What is geodata: \n",
    "- data with a geographical reference. Any information refers to some location in the real world. \n",
    "- GIS (Geographical Information System) is used as a generic term for geodata related software.\n",
    "- geodata is stored in layers \n",
    "- map is a set of layers "
   ]
  },
  {
   "cell_type": "markdown",
   "metadata": {},
   "source": [
    "### Important GIS Objects"
   ]
  },
  {
   "cell_type": "markdown",
   "metadata": {},
   "source": [
    "##### vector data \n",
    "- Point data -> bus stop layer with annotations [data](https://geolion.zh.ch/geodatensatz/883) [WFS](https://geolion.zh.ch/geodatenservice/1055)\n",
    "- Line data -> road network layer [data](https://geolion.zh.ch/geodatensatz/3177) [WFS](https://geolion.zh.ch/geodatenservice/1120)\n",
    "- Polygon data -> lake layer with annotated lake names **???**\n",
    "\n",
    "Vector data contains additional information in an attribute table (e.g. a lake polygon layer contains a name, an area and more information about every lake --> <span style=\"background-color:yellow;\">attribute table to the lake layer</span>"
   ]
  },
  {
   "cell_type": "markdown",
   "metadata": {},
   "source": [
    "##### raster data \n",
    "- Raster data -> height model **???**\n",
    "\n",
    "\n",
    "In order to display a layer, a symbology / style (e.g. color code) is used → height model with color ramp → road network layer with and without symbology\n",
    "\n",
    "    - GIS data types "
   ]
  },
  {
   "cell_type": "markdown",
   "metadata": {},
   "source": [
    "    - beginner questions: \n",
    "        - what are different data formats (WMS? GeoJSON? ...)\n",
    "        - what is GIS\n",
    "        - 4 basic geodata types \n",
    "            - map: just pictures, they are performant, but not very useful to analyse, to go deep  \n",
    "            - point: e.g. a train station\n",
    "            - ... \n",
    "        - what do I need to have on my computer to work with geodata\n",
    "        - ... \n",
    "    - examples of data relevant to flooding: contours of lakes, location of bus stops, locations of water level meters, buildings on affected areas, population density \n",
    "    - comment on what are the tools, why did we use these tools (datavis, but also QGIS vs programming language)\n",
    "    - should it be slides-only, or slides+practical? -> preference to interchange theory and practice to keep the participants entertained  \n",
    "    - take a geodata and show a transformation into a numpy array \n",
    "\n",
    "1. Slides: present 3-4 geo-services (Geodienste)\n",
    "    - what are the geo-services, how are they different from locally stored geo-data \n",
    "    - Z.B. Swisstopo, Geodienste.ch, SBB Transport-Data\n",
    "    - Swisstopo: https://www.geo.admin.ch/de/geo-dienstleistungen/geodienste/darstellungsdienste-webmapping-webgis-anwendungen/web-map-services-wms.html \n",
    "    - have an example for geoservice, but also an example of a local data \n",
    "\n",
    "1. Slides/Demo: how to integrate geoservices on maps \n",
    "\n",
    "1. Practical: \n",
    "    - participants pick a dataset that interests them  \n",
    "    - integrate the dataset/geoservice data on a map\n",
    "    - spatial analysis: cross-section point and polygon \n",
    "\n",
    "1. Output: discussion round \n",
    "    - participants present which data they used, what they have achieved  \n",
    "\n",
    "\n",
    "\n",
    "Snippets: example - take a code snippet and change something to change the layer \n",
    "\n",
    "Analytics: prepare data in a small extent, snippets analysis (e.g. how many bus stops in a flooding area), they can then add more layers, they can do a small analysis, add another layer from this region \n",
    "\n",
    "ML: extra, as a homework \n",
    "\n",
    "\n",
    "## Flooding in Kanton Bern - Data sources \n",
    "\n",
    "### Gefarenkarte \n",
    "Am Beispiel Kanton Bern Gefahrenkarte mit Ereigniskataster an ausgewählten Standorten vergleichen.\n",
    "\n",
    "Gefahrenkarte (Gefahren von Flüssen ausgehend) siehe \"Naturgefahrenkarten 1:5 000\" / \"Gefahrengebiete: Wassergefahren\" und Ereigniskataster siehe \"Naturgefahren Ereigniskataster\" / \"Ereigniskataster Wasser / Murgang\"\n",
    "\n",
    "Quellen (spezifische URL für jeden Layer muss noch recherchiert werden):\n",
    "\n",
    "- https://www.geoservice.apps.be.ch/geoservice2/services/a42geo/a42geo_geologiewms_d_fk/MapServer/WMSServer?\n",
    "\n",
    "- https://www.geo.apps.be.ch/de/geodienste/geodienstangebot/sheet/de-DE/7271c124-1f9a-a674-7515-b14e3864b1c8/geoservice/complete/search_list.html\n",
    "\n",
    " \n",
    "Nebenbei: Geo7 hat eine \"Gefährdungskarte Oberflächenabluss\" (Gefährdungskarte bei Starkregen) erstellt (verfügbar via map.geo.admin.ch) - es gibt jedoch kein Ereigniskataster dazu"
   ]
  }
 ],
 "metadata": {
  "kernelspec": {
   "display_name": "Python 3",
   "language": "python",
   "name": "python3"
  },
  "language_info": {
   "codemirror_mode": {
    "name": "ipython",
    "version": 3
   },
   "file_extension": ".py",
   "mimetype": "text/x-python",
   "name": "python",
   "nbconvert_exporter": "python",
   "pygments_lexer": "ipython3",
   "version": "3.6.8"
  }
 },
 "nbformat": 4,
 "nbformat_minor": 4
}
